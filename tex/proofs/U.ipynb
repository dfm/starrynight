{
 "cells": [
  {
   "cell_type": "markdown",
   "metadata": {},
   "source": [
    "## Solution for $\\mathcal{U}_v$"
   ]
  },
  {
   "cell_type": "markdown",
   "metadata": {},
   "source": [
    "In this notebook we validate our solution to the integral $\\mathcal{U}$."
   ]
  },
  {
   "cell_type": "code",
   "execution_count": 6,
   "metadata": {},
   "outputs": [],
   "source": [
    "import sympy\n",
    "from sympy import *"
   ]
  },
  {
   "cell_type": "code",
   "execution_count": 10,
   "metadata": {},
   "outputs": [
    {
     "name": "stdout",
     "output_type": "stream",
     "text": [
      "\n",
      "Using sympy version 1.4\n"
     ]
    }
   ],
   "source": [
    "# Initialize the session\n",
    "init_session(quiet=True)\n",
    "print(\"Using sympy version\", sympy.__version__)\n",
    "\n",
    "# Define our symbols\n",
    "phi = symbols('phi')\n",
    "v = symbols('v', integer=True)"
   ]
  },
  {
   "cell_type": "code",
   "execution_count": 11,
   "metadata": {},
   "outputs": [
    {
     "data": {
      "image/png": "[encoded data removed]",
      "text/latex": [
       "$\\displaystyle \\frac{\\sin{\\left(\\phi \\right)} \\sin^{2 v}{\\left(\\phi \\right)}}{2 v + 1}$"
      ],
      "text/plain": [
       "          2⋅v   \n",
       "sin(φ)⋅sin   (φ)\n",
       "────────────────\n",
       "    2⋅v + 1     "
      ]
     },
     "execution_count": 11,
     "metadata": {},
     "output_type": "execute_result"
    }
   ],
   "source": [
    "integrate(\n",
    "    cos(phi) * sin(phi) ** (2 * v),\n",
    "    phi\n",
    ")"
   ]
  }
 ],
 "metadata": {
  "kernelspec": {
   "display_name": "Python 3",
   "language": "python",
   "name": "python3"
  },
  "language_info": {
   "codemirror_mode": {
    "name": "ipython",
    "version": 3
   },
   "file_extension": ".py",
   "mimetype": "text/x-python",
   "name": "python",
   "nbconvert_exporter": "python",
   "pygments_lexer": "ipython3",
   "version": "3.7.4"
  }
 },
 "nbformat": 4,
 "nbformat_minor": 2
}
